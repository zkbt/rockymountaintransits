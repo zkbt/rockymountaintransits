{
 "cells": [
  {
   "cell_type": "markdown",
   "metadata": {},
   "source": [
    "# Checklist for Precision Differential Photometry\n",
    "Here is a list of important questions to consider when planning and executing transiting exoplanet observations. These are in a jupyter notebook, so you can sketch out the calculations you need to answer them right below! (Answering some of these may take a lot of code, so you may want to organize  your responses into separate modules and import function from them into this notebook.)"
   ]
  },
  {
   "cell_type": "markdown",
   "metadata": {},
   "source": [
    "## What is my photon noise limit?\n",
    "If the only noise source were Poisson noise from the fact that we're counting a finite number of photons from a star, what would the uncertainties in my measurement be? The key ingredient needed to answer this question is \"how many photons do I detect from my star, in a given amount of time?\", which can be determined either (a) from estimates of the brightness of your star, your telescope collecting area, and the throughput of your camera, or (b) by scaling from the number of photons you detected from some star of a known magnitude in an exposure of a given exposure time. The answer should look something like \"based on photon noise from the star alone, the best precision to which we can measure relative brightness changes is 1%, 0.1%, 0.01%\" (or some such). Of course, this answer depends how long you spend collecting photons for you measurement; this might be the length of a single exposure, or it might be the total time you were collecting photons if you bin together multiple exposures.\n",
    "\n",
    "*(Hint: there ought to be a heck of a lot of $\\sqrt{N}$ involved in this calculation!)*"
   ]
  },
  {
   "cell_type": "code",
   "execution_count": null,
   "metadata": {
    "collapsed": true
   },
   "outputs": [],
   "source": []
  },
  {
   "cell_type": "markdown",
   "metadata": {},
   "source": [
    "## What other noise sources do I expect?\n",
    "There are terms besides photon noise from the source that contribute uncertainty to a measurement. For ground-based differential photometry, these include at least the following ingredients. Based on the size of the photometric aperture you're using in your analysis, you can quantify all of these, and how they compare to the photon noise from the star itself.\n",
    "\n",
    "+ **Sky noise.** There are also photons coming from the diffuse sky that will be entering your photometric aperture. Although you subtract an estimate of the sky flux from your photometry, these photons still contribute noise. The sky noise will depend on whether or not the Moon is up, your local light pollution conditions, and instantaneous weather conditions (aka cloudiness).\n",
    "+ **Comparison star photon noise.** Because we need comparison stars to correct for transmission variations in Earth's atmosphere, in some cases, you might be limited by the number of photons you detect from comparison stars (see below).\n",
    "+ **Readout noise.** The act of reading out the pixel values of a CCD introduces some noise, typically a equivalent to a few photoelectrons per pixel. \n",
    "+ **Dark current.** If your detector has substantial dark current accumulate during an exposure, the Poisson noise from these thermally generated electrons may contribute to the total noise.\n",
    "+ **Scintillation.** Also known as twinkling, scintillation noise is caused by more or less light from your star to be lost from your telescope's line of sight. It matters more for bright stars (where the intrinsic photon noise is lower.) In most cases, photon noise from your star will dominate over all other noise sources, except for very bright stars, where scintillation will dominate!"
   ]
  },
  {
   "cell_type": "code",
   "execution_count": null,
   "metadata": {
    "collapsed": true
   },
   "outputs": [],
   "source": []
  },
  {
   "cell_type": "markdown",
   "metadata": {},
   "source": [
    "## What is my total expected per-point uncertainty?\n",
    "Combining photon noise with these ingredients leads to an estimate of the uncertainty to which you can measure fractional changes in the brightness of your star.  You can write down a noise model that puts all these ingredients together, typically by adding the individual noise contributions together in quadrature."
   ]
  },
  {
   "cell_type": "code",
   "execution_count": null,
   "metadata": {
    "collapsed": true
   },
   "outputs": [],
   "source": []
  },
  {
   "cell_type": "markdown",
   "metadata": {},
   "source": [
    "## What photometric precision do I actually achieve?\n",
    "If you observe a light curve, you have an actual *measurement* of the photometric precision you achieve in each exposure. After subtracting the best-fit transit model from your light curve, calculate the standard deviation of the residuals. How does the 1$\\sigma$ standard deviation of your residuals compare to the 1$\\sigma$ uncertainty predicted in your above calculations? If your achieved standard deviation is much greater than the prediction, there might be big systematic problems that you need to characterize. If your achieved standard deviation is close to the prediction, you might be doing about as well as you can with your telescope and camera. If your achieved standard deviation is much lower than the prediction, then something has gone horribly wrong!\n",
    "\n",
    "You should also compare the photometric precision on multiple timescales:\n",
    "+ Is the standard deviation of each exposure consistent with your expectation for the noise in a single exposure?\n",
    "+ If you bin many datapoints together, the precision of the binned light curve should be $\\sqrt{N}$ better than the unbinned light curve. Is it? If not, you may have significant time-correlated noise in your dataset (\"red noise\"), which could be your ultimate limit to precise measurements of the depth of a transit."
   ]
  },
  {
   "cell_type": "code",
   "execution_count": null,
   "metadata": {
    "collapsed": true
   },
   "outputs": [],
   "source": []
  },
  {
   "cell_type": "markdown",
   "metadata": {},
   "source": [
    "## What is the size of the signal I am looking for?\n",
    "It might be the detection of the transit of a planet, it might be a precise measurement of the depth of the transit at a specific wavelength, or it might be something else. What is the size of that signal? It should be a number in units that you can compare directly to your estimate of the fractional precision to which you can measure the brightness of the star over a given time. If your signal is larger than your predicted uncertainty, you're on the right track, but you're still not necessarily done... "
   ]
  },
  {
   "cell_type": "code",
   "execution_count": null,
   "metadata": {
    "collapsed": true
   },
   "outputs": [],
   "source": []
  },
  {
   "cell_type": "markdown",
   "metadata": {},
   "source": [
    "## What are other systematic noise sources to worry about?\n",
    "We often use telescopes, cameras, or systems that are not explicitly designed for high-precision transiting exoplanet photometry. All the noise sources described above would exist even for *perfect* telescopes with *perfect* cameras that were *perfectly* calibrated. In the real world, we often encounter imperfections; in some cases these imperfections can lead to effective uncertainties in your measurements that can be orders of magnitude larger than your predicted uncertainties. Common ones of these include:\n",
    "+ **Imperfect flat-fielding:** If you don't know the perfectly how the sensitivity of your camera and/or CCD changes from pixel-to-pixel across the field, then even tiny motions from one pixel to the next pixel can lead to major systematic noise. Therefore, you want to determine as good of a flat-field as you possibly can, but also be aware that it will never be perfect! \n",
    "+ **Telescope jitter or drifts:** If your stars drift across the field, they may encounter sensitivity variations that are not accounted for by the flat-field. Even a *really good* flat-field is still uncertain to about 1%, so if you're trying to achieve a relative precision of 0.01% in some cases, that can be a serious problem! Therefore, you want to prevent your stars from moving by more than a pixel during the entire transit observation. \n",
    "+ **Big focus or seeing *changes*:** If the concentration of each star's light on the detector varies significantly over the course of the night, you may be capturing a larger or smaller fraction of that light within your photometric aperture. Additionally, you may be casting more or less light onto pixels whose sensitivity you don't know perfectly. Therefore, its best to try to keep size of your point-spread-focus fairly constant over your entire observations. One common way to do this is to defocus the telescope significantly, which has multiple effects: the size of your PSF will no longer bounce around with the seeing, you spread the light from each star across more pixels to average down some uncertainties in the flat-field, and you can take longer exposures without saturating (see below).\n",
    "+ **Non-linearity that is either uncorrected or poorly corrected:** All detectors are non-linear, to some extent. In a linear detector, if twice as many photons hit a pixel, that pixel will record twice as many photons. In a non-linear detector, that's not necessarily the case. As you're using variations in the brightness of your comparison stars to determine the variations in atmospheric transmission affecting your target star, deviations from this linear response (particularly when comparing stars of different brightness) can really mess you up. Therefore, you want to know the limits of linearity of your detector and avoid exposing any stars you want to use to levels where your detector is significantly nonlinear.\n",
    "+ **Anything else non-repeatable between exposures:** The traditional exoplanet photometry lore says that the best transit observation will be one where you set up your observations before the transit and then *don't change anything* during the observation, to minimize any opportunity for calibrations to break down. For example, if you swap filters between exposures and the filters don't come back to exactly the same place every time (down to the sub-pixel level), then you a fleck of dust on that filter might affect one of your stars of interest more or less in some exposures than others; you'd be undoing all the hard work you did to get determine the flat-field in the first place. Therefore, if you want to be changing anything between exposures, be sure to validate you're not introducing unnecessary scatter into your measurements.\n",
    "\n"
   ]
  },
  {
   "cell_type": "code",
   "execution_count": null,
   "metadata": {
    "collapsed": true
   },
   "outputs": [],
   "source": []
  },
  {
   "cell_type": "markdown",
   "metadata": {
    "collapsed": true
   },
   "source": [
    "## How do I test/improve these systematic challenges?\n",
    "+ **Imperfect flat-fielding:** Take flats in many different ways, and see how they compare. Take dome flats and twilight flats; how are they different? Take flats using the same setup at different times; do you get the same answer in flats taken one day apart from each other? Take flats in one filter, switch to a different filter, and then switch back and take more flats in the original filter; are the flats measured before and after moving the filter wheel *exactly* the same? If you drift your stars across the detector at night on the sky, can you see differences in the photometry between different flats you use in the analysis? \n",
    "\n",
    "+ **Telescope jitter or drifts:** Measure the `x` and `y` centroids of your star on the detector, for every exposure within a transit observation. By how many pixels does your star move? Do you see trends in the photometry that correlate with these drifts? If your star moves by more than a pixel, consider trying to implement some kind of real-time guiding on your telescope, to actively nudge the telescope pointing to keep your stars on their same pixels throughout the night.\n",
    "\n",
    "+ **Big focus or seeing *changes*:** Measure the FWHM and ellipticity of your stars throughout a transit observation. Do they vary significantly? Do trends in these measurements correlate with trends in your photometry? Make a movie of the pixels around one of your stars over the whole observation: does the shape of the point-spread-function vary significantly? You can't do much about seeing variations, but if you defocus a bit more you may be able to minimize the effect of seeing fluctations, as your point-spread-function will instead be limited by the defocus.\n",
    "\n",
    "+ **Non-linearity that is either uncorrected or poorly corrected:** Take flat field exposures with different exposure times. Does the flux recorded in pixel increase by *exactly* 2X or 10X or 100X in exposures that are 2X or 10X or 100X longer? (Most lamps aren't stable enough on their own to do this test, so either need an independent check on the flux levels or a more stable light source: cracking the dome during a cloud-free day can be pretty stable.) Are there existing non-linearity estimates for your camera? \n",
    "\n",
    "+ **Anything else non-repeatable between exposures:** Take some light curves with keeping everything as steady as possible. Don't change filters during the night, don't change exposure times, don't change focus; control everything as precisely as you can. Compare the noise you achieve in your stable configuration to that you get when you try to change things between exposures. Are they the same?\n"
   ]
  },
  {
   "cell_type": "code",
   "execution_count": null,
   "metadata": {
    "collapsed": true
   },
   "outputs": [],
   "source": []
  }
 ],
 "metadata": {
  "kernelspec": {
   "display_name": "Python 2",
   "language": "python",
   "name": "python2"
  },
  "language_info": {
   "codemirror_mode": {
    "name": "ipython",
    "version": 2
   },
   "file_extension": ".py",
   "mimetype": "text/x-python",
   "name": "python",
   "nbconvert_exporter": "python",
   "pygments_lexer": "ipython2",
   "version": "2.7.13"
  }
 },
 "nbformat": 4,
 "nbformat_minor": 2
}
